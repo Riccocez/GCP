{
 "cells": [
  {
   "cell_type": "code",
   "execution_count": 1,
   "metadata": {
    "collapsed": true
   },
   "outputs": [],
   "source": [
    "from datalab.context import Context\n",
    "import datalab.bigquery as bq\n",
    "import datalab.storage as storage\n",
    "import pandas as pd\n",
    "from StringIO import StringIO\n",
    "import json"
   ]
  },
  {
   "cell_type": "markdown",
   "metadata": {},
   "source": [
    "# Code to read several logs in a bucket from google cloud platform"
   ]
  },
  {
   "cell_type": "code",
   "execution_count": 2,
   "metadata": {
    "collapsed": true
   },
   "outputs": [],
   "source": [
    "logs = ['15_01','15_02','15_03','15_04','15_05',\n",
    "       '15_06','15_07','15_08','15_09','15_10',\n",
    "       '15_11','15_12','15_13','16_01','16_02','16_03','16_04','16_05',\n",
    "       '16_06','16_07','16_08','16_09','16_10',\n",
    "       '17_01','17_02','17_03','17_04','17_05',\n",
    "       '17_06','17_07','17_08','17_09','18_01',\n",
    "       '18_02','18_03','18_04','18_05','18_06',\n",
    "       '18_07','18_08','18_09','19_01','19_02',\n",
    "       '19_03','19_04','19_05','19_06','19_07',\n",
    "       '19_08','19_09']"
   ]
  },
  {
   "cell_type": "code",
   "execution_count": 3,
   "metadata": {
    "collapsed": true
   },
   "outputs": [],
   "source": [
    "def export_data(log_name):\n",
    "  log_path = <YOUR_PREFIX> + log_name + '.json'\n",
    "  data = storage.Item(<YOUR_BUCKET>, log_path).read_from()\n",
    "  return data"
   ]
  },
  {
   "cell_type": "code",
   "execution_count": 4,
   "metadata": {
    "collapsed": true
   },
   "outputs": [],
   "source": [
    "dataset = [export_data(log) for log in logs]"
   ]
  },
  {
   "cell_type": "code",
   "execution_count": 5,
   "metadata": {
    "collapsed": true
   },
   "outputs": [],
   "source": [
    "data_frames = [pd.read_json(StringIO(data)) for data in dataset]"
   ]
  },
  {
   "cell_type": "code",
   "execution_count": 6,
   "metadata": {
    "collapsed": true
   },
   "outputs": [],
   "source": [
    "df = pd.concat([data_frame for data_frame in data_frames],axis=0)"
   ]
  },
  {
   "cell_type": "code",
   "execution_count": null,
   "metadata": {
    "collapsed": false
   },
   "outputs": [],
   "source": []
  },
  {
   "cell_type": "code",
   "execution_count": null,
   "metadata": {
    "collapsed": true
   },
   "outputs": [],
   "source": []
  }
 ],
 "metadata": {
  "kernelspec": {
   "display_name": "Python 2",
   "language": "python",
   "name": "python2"
  },
  "language_info": {
   "codemirror_mode": {
    "name": "ipython",
    "version": 2
   },
   "file_extension": ".py",
   "mimetype": "text/x-python",
   "name": "python",
   "nbconvert_exporter": "python",
   "pygments_lexer": "ipython2",
   "version": "2.7.9"
  }
 },
 "nbformat": 4,
 "nbformat_minor": 1
}
